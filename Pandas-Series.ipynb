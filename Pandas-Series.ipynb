{
 "cells": [
  {
   "cell_type": "code",
   "execution_count": 13,
   "metadata": {
    "collapsed": true
   },
   "outputs": [],
   "source": [
    "from pandas import Series, DataFrame\n",
    "import pandas as pd\n",
    "import os "
   ]
  },
  {
   "cell_type": "code",
   "execution_count": 2,
   "metadata": {},
   "outputs": [
    {
     "data": {
      "text/plain": [
       "North-America-Region\n",
       "USA         4\n",
       "Canada     -5\n",
       "Mexico      7\n",
       "Dominica    3\n",
       "dtype: int64"
      ]
     },
     "execution_count": 2,
     "metadata": {},
     "output_type": "execute_result"
    }
   ],
   "source": [
    "#Creating a Pandas-Series with defined indexes\n",
    "#Nameing Index\n",
    "obj1 = Series([4,-5,7,3], index=['USA', 'Canada', 'Mexico', 'Dominica'])\n",
    "obj1.index.name = 'North-America-Region'\n",
    "obj1"
   ]
  },
  {
   "cell_type": "code",
   "execution_count": 5,
   "metadata": {},
   "outputs": [
    {
     "data": {
      "text/plain": [
       "North-America-Region\n",
       "Mexico      7\n",
       "USA         4\n",
       "Dominica    3\n",
       "Canada     -5\n",
       "dtype: int64"
      ]
     },
     "execution_count": 5,
     "metadata": {},
     "output_type": "execute_result"
    }
   ],
   "source": [
    "#Sorting-Values \n",
    "obj1.sort_values(ascending=False)"
   ]
  },
  {
   "cell_type": "code",
   "execution_count": 7,
   "metadata": {},
   "outputs": [
    {
     "data": {
      "text/plain": [
       "North-America-Region\n",
       "Mexico      7\n",
       "USA         4\n",
       "Dominica    3\n",
       "dtype: int64"
      ]
     },
     "execution_count": 7,
     "metadata": {},
     "output_type": "execute_result"
    }
   ],
   "source": [
    "#Filtering values and sorting\n",
    "obj1[obj1 > 0].sort_values(ascending=False)"
   ]
  },
  {
   "cell_type": "code",
   "execution_count": 8,
   "metadata": {},
   "outputs": [
    {
     "name": "stdout",
     "output_type": "stream",
     "text": [
      "--2018-01-24 19:51:29--  https://github.com/gwsb-istm-6212-fall-2016/syllabus-and-schedule/raw/master/exercises/pg11.txt\n",
      "Resolving github.com... 192.30.253.112, 192.30.253.113\n",
      "Connecting to github.com|192.30.253.112|:443... connected.\n",
      "HTTP request sent, awaiting response... 302 Found\n",
      "Location: https://raw.githubusercontent.com/gwsb-istm-6212-fall-2016/syllabus-and-schedule/master/exercises/pg11.txt [following]\n",
      "--2018-01-24 19:51:29--  https://raw.githubusercontent.com/gwsb-istm-6212-fall-2016/syllabus-and-schedule/master/exercises/pg11.txt\n",
      "Resolving raw.githubusercontent.com... 151.101.0.133, 151.101.64.133, 151.101.128.133, ...\n",
      "Connecting to raw.githubusercontent.com|151.101.0.133|:443... connected.\n",
      "HTTP request sent, awaiting response... 200 OK\n",
      "Length: 167518 (164K) [text/plain]\n",
      "Saving to: ‘pg11.txt’\n",
      "\n",
      "pg11.txt            100%[===================>] 163.59K  --.-KB/s    in 0.06s   \n",
      "\n",
      "2018-01-24 19:51:29 (2.84 MB/s) - ‘pg11.txt’ saved [167518/167518]\n",
      "\n"
     ]
    }
   ],
   "source": [
    "#Acquire file from GitHub\n",
    "!wget  https://github.com/gwsb-istm-6212-fall-2016/syllabus-and-schedule/raw/master/exercises/pg11.txt"
   ]
  },
  {
   "cell_type": "code",
   "execution_count": 33,
   "metadata": {
    "collapsed": true
   },
   "outputs": [],
   "source": [
    "#Word-Count function\n",
    "def wordCounter(inputfile):\n",
    "    cwd = os.getcwd()\n",
    "    file = open(cwd + '/' + inputfile, 'r')\n",
    "    \n",
    "    counter={}\n",
    "    for word in file.read().split():\n",
    "        if word not in counter:\n",
    "            counter[word] = 1\n",
    "        else:\n",
    "            counter[word] += 1\n",
    "    file.close()\n",
    "    return counter"
   ]
  },
  {
   "cell_type": "code",
   "execution_count": 44,
   "metadata": {},
   "outputs": [
    {
     "data": {
      "text/plain": [
       "Words\n",
       "the              1664\n",
       "and               780\n",
       "to                773\n",
       "a                 662\n",
       "of                596\n",
       "she               484\n",
       "said              416\n",
       "in                401\n",
       "it                356\n",
       "was               329\n",
       "you               301\n",
       "I                 260\n",
       "as                246\n",
       "that              226\n",
       "Alice             221\n",
       "with              214\n",
       "at                211\n",
       "her               203\n",
       "had               175\n",
       "all               168\n",
       "be                154\n",
       "on                148\n",
       "for               146\n",
       "or                137\n",
       "very              127\n",
       "this              122\n",
       "not               122\n",
       "'I                121\n",
       "little            117\n",
       "they              109\n",
       "                 ... \n",
       "large,              1\n",
       "larger:             1\n",
       "largest             1\n",
       "lark,               1\n",
       "last:               1\n",
       "knocked.            1\n",
       "lasted              1\n",
       "lasted.)            1\n",
       "late!'              1\n",
       "late,               1\n",
       "late.'              1\n",
       "lately,             1\n",
       "lamps               1\n",
       "lady,'              1\n",
       "ladder?--Why,       1\n",
       "lad!--Here,         1\n",
       "labelled            1\n",
       "label,              1\n",
       "label               1\n",
       "knuckles.           1\n",
       "known               1\n",
       "knowledge.          1\n",
       "knowledge,          1\n",
       "knowledge           1\n",
       "know--and           1\n",
       "know--No            1\n",
       "knot,               1\n",
       "knot!'              1\n",
       "knocking,           1\n",
       "\"'TIS               1\n",
       "Name: Word-Count, Length: 6017, dtype: int64"
      ]
     },
     "execution_count": 44,
     "metadata": {},
     "output_type": "execute_result"
    }
   ],
   "source": [
    "#Converting Dict-> Series\n",
    "obj2 = wordCounter('pg11.txt')\n",
    "obj3 = Series(obj2)\n",
    "obj3.index.name = 'Words'\n",
    "obj3.name = 'Word-Count'\n",
    "obj3.sort_values(ascending=False)"
   ]
  },
  {
   "cell_type": "code",
   "execution_count": 45,
   "metadata": {
    "collapsed": true
   },
   "outputs": [],
   "source": [
    "#PRACTICE\n",
    "def wordCountPract(text):\n",
    "    cwd = os.getcwd()\n",
    "    file = open(cwd + '/' + text, 'r')\n",
    "    \n",
    "    counter = {}\n",
    "    for word in file.read().split():\n",
    "        if word not in counter:\n",
    "            counter[word] = 1\n",
    "        else:\n",
    "            counter[word] += 1\n",
    "    file.close()\n",
    "    \n",
    "    wordCountSeries = Series(counter)\n",
    "    wordCountSeries.name = 'Word-Count'\n",
    "    wordCountSeries.index.name = 'Words'\n",
    "\n",
    "    return wordCountSeries.sort_values(ascending=False)"
   ]
  },
  {
   "cell_type": "code",
   "execution_count": 47,
   "metadata": {},
   "outputs": [
    {
     "data": {
      "text/plain": [
       "Words\n",
       "the            1664\n",
       "and             780\n",
       "to              773\n",
       "a               662\n",
       "of              596\n",
       "she             484\n",
       "said            416\n",
       "in              401\n",
       "it              356\n",
       "was             329\n",
       "you             301\n",
       "I               260\n",
       "as              246\n",
       "that            226\n",
       "Alice           221\n",
       "with            214\n",
       "at              211\n",
       "her             203\n",
       "had             175\n",
       "all             168\n",
       "be              154\n",
       "on              148\n",
       "for             146\n",
       "or              137\n",
       "very            127\n",
       "this            122\n",
       "not             122\n",
       "'I              121\n",
       "little          117\n",
       "they            109\n",
       "               ... \n",
       "'Ah!              2\n",
       "ring,             2\n",
       "wine,'            2\n",
       "Hare,             2\n",
       "clear             2\n",
       "well,'            2\n",
       "wise              2\n",
       "wink              2\n",
       "cheered,          2\n",
       "EBOOK             2\n",
       "direction,'       2\n",
       "fees              2\n",
       "directions,       2\n",
       "displaying,       2\n",
       "direction         2\n",
       "went.             2\n",
       "serpents          2\n",
       "wild              2\n",
       "well?'            2\n",
       "wind,             2\n",
       "'All              2\n",
       "wildly            2\n",
       "went,             2\n",
       "directed          2\n",
       "dipped            2\n",
       "shaped            2\n",
       "well.             2\n",
       "EVEN              2\n",
       "row               2\n",
       "check             2\n",
       "Name: Word-Count, Length: 2278, dtype: int64"
      ]
     },
     "execution_count": 47,
     "metadata": {},
     "output_type": "execute_result"
    }
   ],
   "source": [
    "wordCounts = wordCountPract('pg11.txt')\n",
    "wordCounts[wordCounts > 1]"
   ]
  },
  {
   "cell_type": "code",
   "execution_count": 51,
   "metadata": {},
   "outputs": [
    {
     "data": {
      "text/plain": [
       "Default-Index\n",
       "2    6\n",
       "3    6\n",
       "5    8\n",
       "Name: Practice, dtype: int64"
      ]
     },
     "execution_count": 51,
     "metadata": {},
     "output_type": "execute_result"
    }
   ],
   "source": [
    "#Random-Practice\n",
    "objpract = Series([2,3,6,6,3,8])\n",
    "objpract.name = 'Practice'\n",
    "objpract.index.name = 'Default-Index'\n",
    "objpract[objpract>=6]"
   ]
  },
  {
   "cell_type": "code",
   "execution_count": null,
   "metadata": {
    "collapsed": true
   },
   "outputs": [],
   "source": []
  }
 ],
 "metadata": {
  "kernelspec": {
   "display_name": "Python [Root]",
   "language": "python",
   "name": "Python [Root]"
  },
  "language_info": {
   "codemirror_mode": {
    "name": "ipython",
    "version": 3
   },
   "file_extension": ".py",
   "mimetype": "text/x-python",
   "name": "python",
   "nbconvert_exporter": "python",
   "pygments_lexer": "ipython3",
   "version": "3.5.3"
  }
 },
 "nbformat": 4,
 "nbformat_minor": 2
}
